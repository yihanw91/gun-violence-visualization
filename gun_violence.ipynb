{
 "cells": [
  {
   "cell_type": "markdown",
   "metadata": {},
   "source": [
    "# An Exploration of Gun Violence in America\n",
    "## Author: Yihan Wang"
   ]
  },
  {
   "cell_type": "markdown",
   "metadata": {},
   "source": [
    "The primary dataset that I will be using is “Gun Violence Data - Comprehensive record of over 260k US gun violence incidents from 2013-2018,” (https://www.kaggle.com/jameslko/gun-violence-data).\n",
    "    \n",
    "It was scraped from gunviolencearchive.org and contains data for all recorded gun violence incidents in the U.S. between January 2013 and March 2018, inclusive. Specifically, I will focus on fatal gun violence incidents (incidents that resulted in at least one death) during 2014-2017 because 2013 and 2018 data is incomplete. There are about 50,000 such cases.\n",
    "\n",
    "There are several questions that I would like to answer with this data. First, has the prevalence and harmfulness of gun violence actually increased in the past several years as the greater media coverage would suggest? Second, what are the geographic patterns of gun violence? Is it more prevalent and harmful in certain regions? Third, what is the relationship between gun violence, gun ownership, and gun laws?\n",
    "\n",
    "To answer the geographic question above, I will supplement the gun violence dataset with 2017 state population numbers from the US Census Bureau Annual Population Estimates (https://factfinder.census.gov/faces/nav/jsf/pages/index.xhtml). Incorporating this dataset will allow me to normalize gun violence figures by state population, resulting in a more accurate comparison of states.\n",
    "\n",
    "To answer questions on gun ownership, I will use a dataset from the Bureau of Alcohol, Tobacco, and Firearms (ATF) on the number of registered weapons in each state in April 2017 (https://www.atf.gov/resource-center/docs/undefined/firearms-commerce-united-states-annual-statistical-update-2017/download).\n",
    "\n",
    "For gun laws, I will use historical data on the number of gun laws for each state during 2014 - 2018 from http://statefirearmlaws.org/national-data."
   ]
  },
  {
   "cell_type": "code",
   "execution_count": 1,
   "metadata": {},
   "outputs": [],
   "source": [
    "%matplotlib inline\n",
    "\n",
    "import seaborn as sns\n",
    "from matplotlib import rcParams\n",
    "import matplotlib.pyplot as plt\n",
    "import squarify\n",
    "\n",
    "import pandas as pd\n",
    "import numpy as np\n",
    "\n",
    "import plotly\n",
    "import plotly.plotly as py\n",
    "import plotly.graph_objs as go"
   ]
  },
  {
   "cell_type": "code",
   "execution_count": 2,
   "metadata": {},
   "outputs": [],
   "source": [
    "import warnings\n",
    "warnings.filterwarnings(\"ignore\")"
   ]
  },
  {
   "cell_type": "code",
   "execution_count": 3,
   "metadata": {},
   "outputs": [],
   "source": [
    "df = pd.read_csv('data/gun-violence-data_01-2013_03-2018.csv', parse_dates=['date'])"
   ]
  },
  {
   "cell_type": "code",
   "execution_count": 4,
   "metadata": {},
   "outputs": [],
   "source": [
    "# Only include 2014-2017 because 2013 and 2018 are incomplete\n",
    "df = df[(df.date >= '2014-01-01') & (df.date <= '2017-12-31')]"
   ]
  },
  {
   "cell_type": "code",
   "execution_count": 5,
   "metadata": {},
   "outputs": [],
   "source": [
    "# Only include fatal incidents (at least one death)\n",
    "df = df[df.n_killed >= 1]"
   ]
  },
  {
   "cell_type": "code",
   "execution_count": 6,
   "metadata": {},
   "outputs": [],
   "source": [
    "df['year'] = df.date.dt.year\n",
    "df['month'] = df.date.dt.month\n",
    "df['month_name'] = df.date.dt.month_name()"
   ]
  },
  {
   "cell_type": "code",
   "execution_count": 7,
   "metadata": {},
   "outputs": [],
   "source": [
    "months = [\"January\", \"February\", \"March\", \"April\", \"May\", \"June\", \n",
    "          \"July\", \"August\", \"September\", \"October\", \"November\", \"December\"]"
   ]
  },
  {
   "cell_type": "code",
   "execution_count": 8,
   "metadata": {},
   "outputs": [],
   "source": [
    "df['month_name'] = pd.Categorical(df['month_name'], categories=months, ordered=True)"
   ]
  },
  {
   "cell_type": "code",
   "execution_count": 9,
   "metadata": {
    "scrolled": true
   },
   "outputs": [
    {
     "data": {
      "text/html": [
       "<div>\n",
       "<style scoped>\n",
       "    .dataframe tbody tr th:only-of-type {\n",
       "        vertical-align: middle;\n",
       "    }\n",
       "\n",
       "    .dataframe tbody tr th {\n",
       "        vertical-align: top;\n",
       "    }\n",
       "\n",
       "    .dataframe thead th {\n",
       "        text-align: right;\n",
       "    }\n",
       "</style>\n",
       "<table border=\"1\" class=\"dataframe\">\n",
       "  <thead>\n",
       "    <tr style=\"text-align: right;\">\n",
       "      <th></th>\n",
       "      <th>incident_id</th>\n",
       "      <th>date</th>\n",
       "      <th>state</th>\n",
       "      <th>city_or_county</th>\n",
       "      <th>address</th>\n",
       "      <th>n_killed</th>\n",
       "      <th>n_injured</th>\n",
       "      <th>incident_url</th>\n",
       "      <th>source_url</th>\n",
       "      <th>incident_url_fields_missing</th>\n",
       "      <th>...</th>\n",
       "      <th>participant_name</th>\n",
       "      <th>participant_relationship</th>\n",
       "      <th>participant_status</th>\n",
       "      <th>participant_type</th>\n",
       "      <th>sources</th>\n",
       "      <th>state_house_district</th>\n",
       "      <th>state_senate_district</th>\n",
       "      <th>year</th>\n",
       "      <th>month</th>\n",
       "      <th>month_name</th>\n",
       "    </tr>\n",
       "  </thead>\n",
       "  <tbody>\n",
       "    <tr>\n",
       "      <th>280</th>\n",
       "      <td>92383</td>\n",
       "      <td>2014-01-01</td>\n",
       "      <td>New York</td>\n",
       "      <td>Queens</td>\n",
       "      <td>113th Avenue</td>\n",
       "      <td>1</td>\n",
       "      <td>0</td>\n",
       "      <td>http://www.gunviolencearchive.org/incident/92383</td>\n",
       "      <td>http://www.timesledger.com/stories/2014/2/firs...</td>\n",
       "      <td>False</td>\n",
       "      <td>...</td>\n",
       "      <td>0::Julio Mora||1::Sheldon Smith</td>\n",
       "      <td>NaN</td>\n",
       "      <td>0::Killed||1::Unharmed</td>\n",
       "      <td>0::Victim||1::Subject-Suspect</td>\n",
       "      <td>http://www.timesledger.com/stories/2014/2/firs...</td>\n",
       "      <td>33.0</td>\n",
       "      <td>14.0</td>\n",
       "      <td>2014</td>\n",
       "      <td>1</td>\n",
       "      <td>January</td>\n",
       "    </tr>\n",
       "    <tr>\n",
       "      <th>290</th>\n",
       "      <td>92215</td>\n",
       "      <td>2014-01-01</td>\n",
       "      <td>South Carolina</td>\n",
       "      <td>North Charleston</td>\n",
       "      <td>Niagara Street</td>\n",
       "      <td>1</td>\n",
       "      <td>0</td>\n",
       "      <td>http://www.gunviolencearchive.org/incident/92215</td>\n",
       "      <td>/www.thestate.com/2014/01/03/3188515/cops-name...</td>\n",
       "      <td>False</td>\n",
       "      <td>...</td>\n",
       "      <td>0::Janet Royal</td>\n",
       "      <td>NaN</td>\n",
       "      <td>0::Killed</td>\n",
       "      <td>0::Victim</td>\n",
       "      <td>http://www.postandcourier.com/article/20140101...</td>\n",
       "      <td>109.0</td>\n",
       "      <td>42.0</td>\n",
       "      <td>2014</td>\n",
       "      <td>1</td>\n",
       "      <td>January</td>\n",
       "    </tr>\n",
       "    <tr>\n",
       "      <th>292</th>\n",
       "      <td>92357</td>\n",
       "      <td>2014-01-01</td>\n",
       "      <td>Delaware</td>\n",
       "      <td>Wilmington</td>\n",
       "      <td>1400 block of West 3rd</td>\n",
       "      <td>1</td>\n",
       "      <td>0</td>\n",
       "      <td>http://www.gunviolencearchive.org/incident/92357</td>\n",
       "      <td>http://abclocal.go.com/wpvi/story</td>\n",
       "      <td>False</td>\n",
       "      <td>...</td>\n",
       "      <td>0::Allen Whitt</td>\n",
       "      <td>NaN</td>\n",
       "      <td>0::Killed</td>\n",
       "      <td>0::Victim</td>\n",
       "      <td>http://abclocal.go.com/wpvi/story</td>\n",
       "      <td>3.0</td>\n",
       "      <td>3.0</td>\n",
       "      <td>2014</td>\n",
       "      <td>1</td>\n",
       "      <td>January</td>\n",
       "    </tr>\n",
       "    <tr>\n",
       "      <th>293</th>\n",
       "      <td>92790</td>\n",
       "      <td>2014-01-01</td>\n",
       "      <td>Colorado</td>\n",
       "      <td>Grand Junction</td>\n",
       "      <td>2846 Unaweep Ave</td>\n",
       "      <td>1</td>\n",
       "      <td>0</td>\n",
       "      <td>http://www.gunviolencearchive.org/incident/92790</td>\n",
       "      <td>http://www.nbc11news.com/home/headlines/law-en...</td>\n",
       "      <td>False</td>\n",
       "      <td>...</td>\n",
       "      <td>0::Randy Cook</td>\n",
       "      <td>NaN</td>\n",
       "      <td>0::Killed</td>\n",
       "      <td>0::Victim</td>\n",
       "      <td>http://www.nbc11news.com/home/headlines/Randy-...</td>\n",
       "      <td>54.0</td>\n",
       "      <td>7.0</td>\n",
       "      <td>2014</td>\n",
       "      <td>1</td>\n",
       "      <td>January</td>\n",
       "    </tr>\n",
       "    <tr>\n",
       "      <th>296</th>\n",
       "      <td>92342</td>\n",
       "      <td>2014-01-01</td>\n",
       "      <td>Alabama</td>\n",
       "      <td>Huntsville</td>\n",
       "      <td>2700 block of Bridge Road</td>\n",
       "      <td>1</td>\n",
       "      <td>0</td>\n",
       "      <td>http://www.gunviolencearchive.org/incident/92342</td>\n",
       "      <td>http://www.waff.com/story/24445797/police-make...</td>\n",
       "      <td>False</td>\n",
       "      <td>...</td>\n",
       "      <td>0::Mercedes Morris||1::Lopez Marittia Rice</td>\n",
       "      <td>NaN</td>\n",
       "      <td>0::Killed||1::Unharmed</td>\n",
       "      <td>0::Victim||1::Subject-Suspect</td>\n",
       "      <td>http://www.wsfa.com/story/24344374/police-resp...</td>\n",
       "      <td>19.0</td>\n",
       "      <td>7.0</td>\n",
       "      <td>2014</td>\n",
       "      <td>1</td>\n",
       "      <td>January</td>\n",
       "    </tr>\n",
       "  </tbody>\n",
       "</table>\n",
       "<p>5 rows × 32 columns</p>\n",
       "</div>"
      ],
      "text/plain": [
       "     incident_id       date           state    city_or_county  \\\n",
       "280        92383 2014-01-01        New York            Queens   \n",
       "290        92215 2014-01-01  South Carolina  North Charleston   \n",
       "292        92357 2014-01-01        Delaware        Wilmington   \n",
       "293        92790 2014-01-01        Colorado    Grand Junction   \n",
       "296        92342 2014-01-01         Alabama        Huntsville   \n",
       "\n",
       "                       address  n_killed  n_injured  \\\n",
       "280               113th Avenue         1          0   \n",
       "290             Niagara Street         1          0   \n",
       "292     1400 block of West 3rd         1          0   \n",
       "293           2846 Unaweep Ave         1          0   \n",
       "296  2700 block of Bridge Road         1          0   \n",
       "\n",
       "                                         incident_url  \\\n",
       "280  http://www.gunviolencearchive.org/incident/92383   \n",
       "290  http://www.gunviolencearchive.org/incident/92215   \n",
       "292  http://www.gunviolencearchive.org/incident/92357   \n",
       "293  http://www.gunviolencearchive.org/incident/92790   \n",
       "296  http://www.gunviolencearchive.org/incident/92342   \n",
       "\n",
       "                                            source_url  \\\n",
       "280  http://www.timesledger.com/stories/2014/2/firs...   \n",
       "290  /www.thestate.com/2014/01/03/3188515/cops-name...   \n",
       "292                  http://abclocal.go.com/wpvi/story   \n",
       "293  http://www.nbc11news.com/home/headlines/law-en...   \n",
       "296  http://www.waff.com/story/24445797/police-make...   \n",
       "\n",
       "     incident_url_fields_missing    ...      \\\n",
       "280                        False    ...       \n",
       "290                        False    ...       \n",
       "292                        False    ...       \n",
       "293                        False    ...       \n",
       "296                        False    ...       \n",
       "\n",
       "                               participant_name participant_relationship  \\\n",
       "280             0::Julio Mora||1::Sheldon Smith                      NaN   \n",
       "290                              0::Janet Royal                      NaN   \n",
       "292                              0::Allen Whitt                      NaN   \n",
       "293                               0::Randy Cook                      NaN   \n",
       "296  0::Mercedes Morris||1::Lopez Marittia Rice                      NaN   \n",
       "\n",
       "         participant_status               participant_type  \\\n",
       "280  0::Killed||1::Unharmed  0::Victim||1::Subject-Suspect   \n",
       "290               0::Killed                      0::Victim   \n",
       "292               0::Killed                      0::Victim   \n",
       "293               0::Killed                      0::Victim   \n",
       "296  0::Killed||1::Unharmed  0::Victim||1::Subject-Suspect   \n",
       "\n",
       "                                               sources state_house_district  \\\n",
       "280  http://www.timesledger.com/stories/2014/2/firs...                 33.0   \n",
       "290  http://www.postandcourier.com/article/20140101...                109.0   \n",
       "292                  http://abclocal.go.com/wpvi/story                  3.0   \n",
       "293  http://www.nbc11news.com/home/headlines/Randy-...                 54.0   \n",
       "296  http://www.wsfa.com/story/24344374/police-resp...                 19.0   \n",
       "\n",
       "     state_senate_district  year month month_name  \n",
       "280                   14.0  2014     1    January  \n",
       "290                   42.0  2014     1    January  \n",
       "292                    3.0  2014     1    January  \n",
       "293                    7.0  2014     1    January  \n",
       "296                    7.0  2014     1    January  \n",
       "\n",
       "[5 rows x 32 columns]"
      ]
     },
     "execution_count": 9,
     "metadata": {},
     "output_type": "execute_result"
    }
   ],
   "source": [
    "df.head()"
   ]
  },
  {
   "cell_type": "code",
   "execution_count": 10,
   "metadata": {
    "scrolled": false
   },
   "outputs": [
    {
     "data": {
      "text/plain": [
       "(50581, 32)"
      ]
     },
     "execution_count": 10,
     "metadata": {},
     "output_type": "execute_result"
    }
   ],
   "source": [
    "df.shape"
   ]
  },
  {
   "cell_type": "markdown",
   "metadata": {},
   "source": [
    "# Overview of the Data Through Various Types of Plots"
   ]
  },
  {
   "cell_type": "markdown",
   "metadata": {},
   "source": [
    "## Histogram"
   ]
  },
  {
   "cell_type": "code",
   "execution_count": 11,
   "metadata": {
    "scrolled": false
   },
   "outputs": [
    {
     "data": {
      "text/plain": [
       "Text(0.5,1,'Number of Injuries in Fatal Gun Violence Incidents')"
      ]
     },
     "execution_count": 11,
     "metadata": {},
     "output_type": "execute_result"
    },
    {
     "data": {
      "image/png": "[encoded data removed]",
      "text/plain": [
       "<Figure size 432x288 with 1 Axes>"
      ]
     },
     "metadata": {},
     "output_type": "display_data"
    }
   ],
   "source": [
    "ax = sns.distplot(a=df.n_injured, kde=False)\n",
    "ax.set(xlabel='Number of Injuries', ylabel='Count')\n",
    "ax.set_title(\"Number of Injuries in Fatal Gun Violence Incidents\")"
   ]
  },
  {
   "cell_type": "markdown",
   "metadata": {},
   "source": [
    "## Barplot"
   ]
  },
  {
   "cell_type": "code",
   "execution_count": 12,
   "metadata": {},
   "outputs": [],
   "source": [
    "sns.set(rc={'figure.figsize':(12,8)})"
   ]
  },
  {
   "cell_type": "code",
   "execution_count": 13,
   "metadata": {},
   "outputs": [
    {
     "data": {
      "text/plain": [
       "Text(0.5,1,'Number of Fatal Gun Violence Incidents')"
      ]
     },
     "execution_count": 13,
     "metadata": {},
     "output_type": "execute_result"
    },
    {
     "data": {
      "image/png": "[encoded data removed]",
      "text/plain": [
       "<Figure size 864x576 with 1 Axes>"
      ]
     },
     "metadata": {},
     "output_type": "display_data"
    }
   ],
   "source": [
    "ax = sns.countplot(x=\"month_name\", data=df)\n",
    "ax.set(xlabel='Month', ylabel='Count')\n",
    "ax.set_title(\"Number of Fatal Gun Violence Incidents\")"
   ]
  },
  {
   "cell_type": "markdown",
   "metadata": {},
   "source": [
    "## Boxplot"
   ]
  },
  {
   "cell_type": "code",
   "execution_count": 14,
   "metadata": {},
   "outputs": [],
   "source": [
    "sns.reset_orig()"
   ]
  },
  {
   "cell_type": "code",
   "execution_count": 15,
   "metadata": {},
   "outputs": [
    {
     "data": {
      "text/plain": [
       "[Text(0.5,0,'Number of Deaths')]"
      ]
     },
     "execution_count": 15,
     "metadata": {},
     "output_type": "execute_result"
    },
    {
     "data": {
      "image/png": "[encoded data removed]",
      "text/plain": [
       "<Figure size 432x288 with 1 Axes>"
      ]
     },
     "metadata": {},
     "output_type": "display_data"
    }
   ],
   "source": [
    "# Mass shootings are defined as 4 or more deaths\n",
    "ax = sns.boxplot(x=df.n_killed[df.n_killed >= 4])\n",
    "ax.set_title(\"Boxplot of Fatalities in Mass Shootings\")\n",
    "ax.set(xlabel='Number of Deaths')"
   ]
  },
  {
   "cell_type": "markdown",
   "metadata": {},
   "source": [
    "## Scatterplot"
   ]
  },
  {
   "cell_type": "code",
   "execution_count": 16,
   "metadata": {
    "scrolled": true
   },
   "outputs": [
    {
     "data": {
      "text/plain": [
       "Text(0.5,1,'Fatal Gun Violence Incidents')"
      ]
     },
     "execution_count": 16,
     "metadata": {},
     "output_type": "execute_result"
    },
    {
     "data": {
      "image/png": "[encoded data removed]",
      "text/plain": [
       "<Figure size 432x288 with 1 Axes>"
      ]
     },
     "metadata": {},
     "output_type": "display_data"
    }
   ],
   "source": [
    "ax = sns.regplot(x=\"n_injured\", y=\"n_killed\", data=df, ci=False, line_kws={'color':'red'})\n",
    "ax.set(xlabel='Number of Injuries', ylabel='Number of Deaths')\n",
    "ax.set_title(\"Fatal Gun Violence Incidents\")"
   ]
  },
  {
   "cell_type": "markdown",
   "metadata": {},
   "source": [
    "## Bubble Map"
   ]
  },
  {
   "cell_type": "code",
   "execution_count": 17,
   "metadata": {},
   "outputs": [],
   "source": [
    "# Round latitude and longitude to the precision of region-level\n",
    "df['lat_rounded'] = df.latitude.round()\n",
    "df['lon_rounded'] = df.longitude.round()"
   ]
  },
  {
   "cell_type": "code",
   "execution_count": 18,
   "metadata": {},
   "outputs": [],
   "source": [
    "lat_lon_grouped = df.groupby(['lat_rounded', 'lon_rounded']).size().reset_index()"
   ]
  },
  {
   "cell_type": "code",
   "execution_count": 19,
   "metadata": {},
   "outputs": [],
   "source": [
    "lat_lon_grouped.columns = ['lat', 'lon', 'num_incidents']"
   ]
  },
  {
   "cell_type": "code",
   "execution_count": 20,
   "metadata": {},
   "outputs": [],
   "source": [
    "lat_lon_grouped['text'] = lat_lon_grouped.num_incidents.astype(str) + \" incident(s)\""
   ]
  },
  {
   "cell_type": "code",
   "execution_count": 21,
   "metadata": {},
   "outputs": [],
   "source": [
    "lat_lon_grouped = lat_lon_grouped.sort_values('num_incidents', ascending=False).reset_index()"
   ]
  },
  {
   "cell_type": "code",
   "execution_count": 22,
   "metadata": {},
   "outputs": [],
   "source": [
    "limits = [(0,5), (6,25),(26,50),(51,100),(101,len(lat_lon_grouped))]\n",
    "colors = [\"rgb(0,116,217)\",\"rgb(255,65,54)\",\"rgb(133,20,75)\",\"rgb(255,133,27)\",\"lightgrey\"]"
   ]
  },
  {
   "cell_type": "code",
   "execution_count": 23,
   "metadata": {},
   "outputs": [],
   "source": [
    "regions = []"
   ]
  },
  {
   "cell_type": "code",
   "execution_count": 24,
   "metadata": {},
   "outputs": [],
   "source": [
    "for i in range(len(limits)):\n",
    "    lim = limits[i]\n",
    "    df_sub = lat_lon_grouped[lim[0]:lim[1]]\n",
    "    region = go.Scattergeo(\n",
    "        locationmode = 'USA-states',\n",
    "        lon = df_sub['lon'],\n",
    "        lat = df_sub['lat'],\n",
    "        text = df_sub['text'],\n",
    "        marker = go.scattergeo.Marker(\n",
    "            size = df_sub['num_incidents'],\n",
    "            color = colors[i],\n",
    "            line = go.scattergeo.marker.Line(\n",
    "                width=0.5, color='rgb(40,40,40)'\n",
    "            ),\n",
    "            sizemode = 'area'\n",
    "        ),\n",
    "        name = 'Rank: {0} - {1}'.format(lim[0],lim[1]) )\n",
    "    regions.append(region)"
   ]
  },
  {
   "cell_type": "code",
   "execution_count": 25,
   "metadata": {},
   "outputs": [],
   "source": [
    "layout = go.Layout(\n",
    "        title = go.layout.Title(\n",
    "            text = 'Number of fatal gun violence incidents: sized by count, colored in descending rank order'\n",
    "        ),\n",
    "        showlegend = True,\n",
    "        geo = go.layout.Geo(\n",
    "            scope = 'usa',\n",
    "            projection = go.layout.geo.Projection(\n",
    "                type='albers usa'\n",
    "            ),\n",
    "            showland = True,\n",
    "            landcolor = 'rgb(217, 217, 217)',\n",
    "            subunitwidth=1,\n",
    "            countrywidth=1,\n",
    "            subunitcolor=\"rgb(255, 255, 255)\",\n",
    "            countrycolor=\"rgb(255, 255, 255)\"\n",
    "        )\n",
    "    )"
   ]
  },
  {
   "cell_type": "code",
   "execution_count": 26,
   "metadata": {},
   "outputs": [],
   "source": [
    "fig = go.Figure(data=regions, layout=layout)"
   ]
  },
  {
   "cell_type": "code",
   "execution_count": 27,
   "metadata": {},
   "outputs": [
    {
     "data": {
      "text/html": [
       "<iframe id=\"igraph\" scrolling=\"no\" style=\"border:none;\" seamless=\"seamless\" src=\"https://plot.ly/~yihanwang91/156.embed\" height=\"525px\" width=\"100%\"></iframe>"
      ],
      "text/plain": [
       "<plotly.tools.PlotlyDisplay object>"
      ]
     },
     "execution_count": 27,
     "metadata": {},
     "output_type": "execute_result"
    }
   ],
   "source": [
    "py.iplot(fig)"
   ]
  },
  {
   "cell_type": "code",
   "execution_count": 28,
   "metadata": {},
   "outputs": [
    {
     "data": {
      "text/plain": [
       "'file:///Users/yihan/Dropbox/msds/msds622_data_viz/gun-violence-visualization/gun_violence_incidents.html'"
      ]
     },
     "execution_count": 28,
     "metadata": {},
     "output_type": "execute_result"
    }
   ],
   "source": [
    "plotly.offline.plot(fig, filename = \"gun_violence_incidents.html\")"
   ]
  },
  {
   "cell_type": "markdown",
   "metadata": {},
   "source": [
    "## Chloropleth Map (Interactive Plot)"
   ]
  },
  {
   "cell_type": "code",
   "execution_count": 10,
   "metadata": {},
   "outputs": [],
   "source": [
    "state_pop = pd.read_csv('data/state_code_2017pop.csv')"
   ]
  },
  {
   "cell_type": "code",
   "execution_count": 11,
   "metadata": {
    "scrolled": true
   },
   "outputs": [],
   "source": [
    "state_pop['population'] = pd.to_numeric(state_pop.population)"
   ]
  },
  {
   "cell_type": "code",
   "execution_count": 31,
   "metadata": {},
   "outputs": [],
   "source": [
    "death_state_year = df.groupby(['state', 'year']).agg({'n_killed': 'sum'}).reset_index()"
   ]
  },
  {
   "cell_type": "code",
   "execution_count": 32,
   "metadata": {},
   "outputs": [],
   "source": [
    "death_state_year = death_state_year.merge(state_pop, on='state', how='inner')"
   ]
  },
  {
   "cell_type": "code",
   "execution_count": 33,
   "metadata": {},
   "outputs": [],
   "source": [
    "death_state_year['per_100k'] = death_state_year.n_killed / death_state_year.population * 100000"
   ]
  },
  {
   "cell_type": "code",
   "execution_count": 34,
   "metadata": {},
   "outputs": [],
   "source": [
    "death_state_year['per_100k'] = death_state_year.per_100k.round(1)"
   ]
  },
  {
   "cell_type": "code",
   "execution_count": 35,
   "metadata": {},
   "outputs": [],
   "source": [
    "data = []"
   ]
  },
  {
   "cell_type": "code",
   "execution_count": 36,
   "metadata": {},
   "outputs": [],
   "source": [
    "for y in range(2014, 2018):\n",
    "    data.append(dict(type='choropleth',\n",
    "                     locations=death_state_year[death_state_year.year == y].code.astype(str), \\\n",
    "                     z=death_state_year[death_state_year.year == y].per_100k.astype(float),\n",
    "                     text=death_state_year[death_state_year.year == y].state.astype(str),\n",
    "                     locationmode='USA-states',\n",
    "                     colorbar=dict(title='Gun Deaths per 100,000 Persons'), \n",
    "                     zmin=0, zmax=18)\n",
    "               )"
   ]
  },
  {
   "cell_type": "code",
   "execution_count": 37,
   "metadata": {},
   "outputs": [],
   "source": [
    "steps = []\n",
    "for i in range(len(data)):\n",
    "    step = dict(method='restyle', args=['visible', [False] * len(data)], label='Year {}'.format(i + 2014))\n",
    "    step['args'][1][i] = True\n",
    "    steps.append(step)"
   ]
  },
  {
   "cell_type": "code",
   "execution_count": 38,
   "metadata": {},
   "outputs": [],
   "source": [
    "sliders = [dict(active=0, pad={\"t\": 1}, steps=steps)]"
   ]
  },
  {
   "cell_type": "code",
   "execution_count": 39,
   "metadata": {},
   "outputs": [],
   "source": [
    "layout = dict(geo=dict(scope='usa', projection={'type': 'albers usa'}), \n",
    "              title=dict(text='States in the Deep South (LA, MS, AL) have the highest rates of gun deaths'), \n",
    "              sliders=sliders)"
   ]
  },
  {
   "cell_type": "code",
   "execution_count": 40,
   "metadata": {},
   "outputs": [],
   "source": [
    "fig = dict(data=data, layout=layout)"
   ]
  },
  {
   "cell_type": "code",
   "execution_count": 41,
   "metadata": {},
   "outputs": [
    {
     "data": {
      "text/html": [
       "<iframe id=\"igraph\" scrolling=\"no\" style=\"border:none;\" seamless=\"seamless\" src=\"https://plot.ly/~yihanwang91/158.embed\" height=\"525px\" width=\"100%\"></iframe>"
      ],
      "text/plain": [
       "<plotly.tools.PlotlyDisplay object>"
      ]
     },
     "execution_count": 41,
     "metadata": {},
     "output_type": "execute_result"
    }
   ],
   "source": [
    "py.iplot(fig)"
   ]
  },
  {
   "cell_type": "code",
   "execution_count": 42,
   "metadata": {},
   "outputs": [
    {
     "data": {
      "text/plain": [
       "'file:///Users/yihan/Dropbox/msds/msds622_data_viz/gun-violence-visualization/gun_deaths.html'"
      ]
     },
     "execution_count": 42,
     "metadata": {},
     "output_type": "execute_result"
    }
   ],
   "source": [
    "plotly.offline.plot(fig, filename = \"gun_deaths.html\")"
   ]
  },
  {
   "cell_type": "markdown",
   "metadata": {},
   "source": [
    "## Connection Map"
   ]
  },
  {
   "cell_type": "code",
   "execution_count": 43,
   "metadata": {},
   "outputs": [],
   "source": [
    "# Mass shootings are defined as 4 or more deaths\n",
    "mass = df[df.n_killed >= 4][['date', 'latitude', 'longitude']]"
   ]
  },
  {
   "cell_type": "code",
   "execution_count": 44,
   "metadata": {
    "scrolled": true
   },
   "outputs": [],
   "source": [
    "mass.columns = ['date', 'lat', 'lon']"
   ]
  },
  {
   "cell_type": "code",
   "execution_count": 45,
   "metadata": {},
   "outputs": [],
   "source": [
    "mass['lat_lead'] = mass.lat.shift(-1)"
   ]
  },
  {
   "cell_type": "code",
   "execution_count": 46,
   "metadata": {},
   "outputs": [],
   "source": [
    "mass['lon_lead'] = mass.lon.shift(-1)"
   ]
  },
  {
   "cell_type": "code",
   "execution_count": 47,
   "metadata": {},
   "outputs": [],
   "source": [
    "mass = mass.dropna(axis=0, how='any')"
   ]
  },
  {
   "cell_type": "code",
   "execution_count": 48,
   "metadata": {},
   "outputs": [],
   "source": [
    "mass = mass.reset_index()"
   ]
  },
  {
   "cell_type": "code",
   "execution_count": 49,
   "metadata": {},
   "outputs": [],
   "source": [
    "sites = [go.Scattergeo(\n",
    "    locationmode = 'USA-states',\n",
    "    lon = mass['lon'],\n",
    "    lat = mass['lat'],\n",
    "    hoverinfo = 'text',\n",
    "    text = mass['date'],\n",
    "    mode = 'markers',\n",
    "    marker = go.scattergeo.Marker(\n",
    "        size = 2,\n",
    "        color = 'rgb(255, 0, 0)',\n",
    "        line = go.scattergeo.marker.Line(\n",
    "            width = 3,\n",
    "            color = 'rgba(68, 68, 68, 0)'\n",
    "        )\n",
    "    ))]"
   ]
  },
  {
   "cell_type": "code",
   "execution_count": 50,
   "metadata": {},
   "outputs": [],
   "source": [
    "paths = []"
   ]
  },
  {
   "cell_type": "code",
   "execution_count": 51,
   "metadata": {},
   "outputs": [],
   "source": [
    "for i in range(len(mass)):\n",
    "    paths.append(\n",
    "        go.Scattergeo(\n",
    "            locationmode = 'USA-states',\n",
    "            lon = [mass['lon'][i], mass['lon_lead'][i]],\n",
    "            lat = [mass['lat'][i], mass['lat_lead'][i]],\n",
    "            mode = 'lines',\n",
    "            line = go.scattergeo.Line(\n",
    "                width = 1,\n",
    "                color = 'blue',\n",
    "            ),\n",
    "        )\n",
    "    )"
   ]
  },
  {
   "cell_type": "code",
   "execution_count": 52,
   "metadata": {},
   "outputs": [],
   "source": [
    "layout = go.Layout(\n",
    "    title = go.layout.Title(\n",
    "        text = 'Mass Shooting Sites Connected in Chronological Order'\n",
    "    ),\n",
    "    showlegend = False,\n",
    "    geo = go.layout.Geo(\n",
    "        scope = 'north america',\n",
    "        projection = go.layout.geo.Projection(type = 'azimuthal equal area'),\n",
    "        showland = True,\n",
    "        landcolor = 'rgb(243, 243, 243)',\n",
    "        countrycolor = 'rgb(204, 204, 204)',\n",
    "    ),\n",
    ")"
   ]
  },
  {
   "cell_type": "code",
   "execution_count": 53,
   "metadata": {},
   "outputs": [],
   "source": [
    "fig = go.Figure(data = sites + paths, layout = layout)"
   ]
  },
  {
   "cell_type": "code",
   "execution_count": 54,
   "metadata": {},
   "outputs": [
    {
     "data": {
      "text/html": [
       "<iframe id=\"igraph\" scrolling=\"no\" style=\"border:none;\" seamless=\"seamless\" src=\"https://plot.ly/~yihanwang91/160.embed\" height=\"525px\" width=\"100%\"></iframe>"
      ],
      "text/plain": [
       "<plotly.tools.PlotlyDisplay object>"
      ]
     },
     "execution_count": 54,
     "metadata": {},
     "output_type": "execute_result"
    }
   ],
   "source": [
    "py.iplot(fig)"
   ]
  },
  {
   "cell_type": "code",
   "execution_count": 55,
   "metadata": {},
   "outputs": [
    {
     "data": {
      "text/plain": [
       "'file:///Users/yihan/Dropbox/msds/msds622_data_viz/gun-violence-visualization/mass_shootings.html'"
      ]
     },
     "execution_count": 55,
     "metadata": {},
     "output_type": "execute_result"
    }
   ],
   "source": [
    "plotly.offline.plot(fig, filename = \"mass_shootings.html\")"
   ]
  },
  {
   "cell_type": "markdown",
   "metadata": {},
   "source": [
    "## Heat Map"
   ]
  },
  {
   "cell_type": "code",
   "execution_count": 56,
   "metadata": {},
   "outputs": [],
   "source": [
    "num_incidents_time = df.groupby(['year', 'month']).size().reset_index()"
   ]
  },
  {
   "cell_type": "code",
   "execution_count": 57,
   "metadata": {},
   "outputs": [],
   "source": [
    "num_incidents_time.columns = ['year', 'month', 'num_incidents']"
   ]
  },
  {
   "cell_type": "code",
   "execution_count": 58,
   "metadata": {
    "scrolled": true
   },
   "outputs": [],
   "source": [
    "num_incidents_time = num_incidents_time.pivot(index='month', columns='year', values='num_incidents')"
   ]
  },
  {
   "cell_type": "code",
   "execution_count": 59,
   "metadata": {},
   "outputs": [
    {
     "data": {
      "text/plain": [
       "Text(0.5,1,'Number of Fatal Gun Violence Incidents')"
      ]
     },
     "execution_count": 59,
     "metadata": {},
     "output_type": "execute_result"
    },
    {
     "data": {
      "image/png": "[encoded data removed]",
      "text/plain": [
       "<Figure size 432x288 with 2 Axes>"
      ]
     },
     "metadata": {},
     "output_type": "display_data"
    }
   ],
   "source": [
    "ax = sns.heatmap(num_incidents_time, cmap=\"RdBu_r\")\n",
    "ax.set(xlabel='Year', ylabel='Month')\n",
    "ax.set_title(\"Number of Fatal Gun Violence Incidents\")"
   ]
  },
  {
   "cell_type": "markdown",
   "metadata": {},
   "source": [
    "## Stacked Area Graph"
   ]
  },
  {
   "cell_type": "code",
   "execution_count": 60,
   "metadata": {},
   "outputs": [],
   "source": [
    "death_injury_time = df.groupby(['year', 'month']).agg({'n_killed': 'sum', 'n_injured': 'sum'}).reset_index()"
   ]
  },
  {
   "cell_type": "code",
   "execution_count": 61,
   "metadata": {},
   "outputs": [],
   "source": [
    "death_injury_time['year_month'] = pd.to_datetime(death_injury_time[['year', 'month']].assign(Day=1))"
   ]
  },
  {
   "cell_type": "code",
   "execution_count": 62,
   "metadata": {},
   "outputs": [],
   "source": [
    "death_injury_time['year_month'] = death_injury_time['year_month'].dt.strftime('%y-%m')"
   ]
  },
  {
   "cell_type": "code",
   "execution_count": 63,
   "metadata": {
    "scrolled": true
   },
   "outputs": [
    {
     "data": {
      "text/plain": [
       "Text(0,0.5,'Total')"
      ]
     },
     "execution_count": 63,
     "metadata": {},
     "output_type": "execute_result"
    },
    {
     "data": {
      "image/png": "[encoded data removed]",
      "text/plain": [
       "<Figure size 2160x720 with 1 Axes>"
      ]
     },
     "metadata": {},
     "output_type": "display_data"
    }
   ],
   "source": [
    "plt.figure(figsize=(30,10))\n",
    "plt.stackplot(death_injury_time.year_month.values, death_injury_time.n_killed.values, death_injury_time.n_injured.values, labels=['Deaths', 'Injuries'])\n",
    "plt.legend(loc='upper left', fontsize=16)\n",
    "plt.title('Deaths and Injuries in Fatal Gun Violence Incidents, 2013-2017', fontsize=24)\n",
    "plt.xlabel('Year-Month', fontsize=16)\n",
    "plt.ylabel('Total', fontsize=16)"
   ]
  },
  {
   "cell_type": "markdown",
   "metadata": {},
   "source": [
    "## Treemap"
   ]
  },
  {
   "cell_type": "code",
   "execution_count": 64,
   "metadata": {},
   "outputs": [],
   "source": [
    "death_month = df.groupby(['month_name']).agg({'n_killed': 'sum'}).reset_index()"
   ]
  },
  {
   "cell_type": "code",
   "execution_count": 65,
   "metadata": {},
   "outputs": [],
   "source": [
    "death_month[\"label\"] = death_month.month_name.astype(\"str\") + \" - \" + death_month.n_killed.astype(\"str\")"
   ]
  },
  {
   "cell_type": "code",
   "execution_count": 66,
   "metadata": {},
   "outputs": [],
   "source": [
    "death_month = death_month.sort_values(by='n_killed', ascending=False)"
   ]
  },
  {
   "cell_type": "code",
   "execution_count": 67,
   "metadata": {},
   "outputs": [],
   "source": [
    "colors = [\"#248af1\", \"#eb5d50\", \"#8bc4f6\", \"#8c5c94\", \"#a170e8\", \"#fba521\", \"#75bc3f\"]"
   ]
  },
  {
   "cell_type": "code",
   "execution_count": 68,
   "metadata": {},
   "outputs": [],
   "source": [
    "rcParams['figure.figsize'] = (16.0, 9.0)"
   ]
  },
  {
   "cell_type": "code",
   "execution_count": 69,
   "metadata": {},
   "outputs": [
    {
     "data": {
      "text/plain": [
       "Text(0.5,1,'Number of Gun Deaths by Month, 2013-2017')"
      ]
     },
     "execution_count": 69,
     "metadata": {},
     "output_type": "execute_result"
    },
    {
     "data": {
      "image/png": "[encoded data removed]",
      "text/plain": [
       "<Figure size 1152x648 with 1 Axes>"
      ]
     },
     "metadata": {},
     "output_type": "display_data"
    }
   ],
   "source": [
    "squarify.plot(sizes=death_month.n_killed, label=death_month.label, alpha=0.9, color=colors)\n",
    "plt.axis('off')\n",
    "plt.gca().invert_yaxis()\n",
    "plt.title(\"Number of Gun Deaths by Month, 2013-2017\", fontsize=16)"
   ]
  },
  {
   "cell_type": "markdown",
   "metadata": {},
   "source": [
    "# Digging Deeper: Gun Ownership and Fatal Gun Incidents"
   ]
  },
  {
   "cell_type": "code",
   "execution_count": 53,
   "metadata": {},
   "outputs": [],
   "source": [
    "from sklearn.linear_model import LinearRegression"
   ]
  },
  {
   "cell_type": "code",
   "execution_count": 54,
   "metadata": {},
   "outputs": [],
   "source": [
    "incidents_state_year = df.groupby(['state', 'year']).agg({'incident_id': 'count'}).reset_index()"
   ]
  },
  {
   "cell_type": "code",
   "execution_count": 55,
   "metadata": {},
   "outputs": [],
   "source": [
    "incidents_state_year = incidents_state_year.rename(index=str, columns={\"incident_id\": \"num_incidents\"})"
   ]
  },
  {
   "cell_type": "code",
   "execution_count": 56,
   "metadata": {},
   "outputs": [
    {
     "data": {
      "text/html": [
       "<div>\n",
       "<style scoped>\n",
       "    .dataframe tbody tr th:only-of-type {\n",
       "        vertical-align: middle;\n",
       "    }\n",
       "\n",
       "    .dataframe tbody tr th {\n",
       "        vertical-align: top;\n",
       "    }\n",
       "\n",
       "    .dataframe thead th {\n",
       "        text-align: right;\n",
       "    }\n",
       "</style>\n",
       "<table border=\"1\" class=\"dataframe\">\n",
       "  <thead>\n",
       "    <tr style=\"text-align: right;\">\n",
       "      <th></th>\n",
       "      <th>state</th>\n",
       "      <th>year</th>\n",
       "      <th>num_incidents</th>\n",
       "    </tr>\n",
       "  </thead>\n",
       "  <tbody>\n",
       "    <tr>\n",
       "      <th>0</th>\n",
       "      <td>Alabama</td>\n",
       "      <td>2014</td>\n",
       "      <td>303</td>\n",
       "    </tr>\n",
       "    <tr>\n",
       "      <th>1</th>\n",
       "      <td>Alabama</td>\n",
       "      <td>2015</td>\n",
       "      <td>345</td>\n",
       "    </tr>\n",
       "    <tr>\n",
       "      <th>2</th>\n",
       "      <td>Alabama</td>\n",
       "      <td>2016</td>\n",
       "      <td>445</td>\n",
       "    </tr>\n",
       "    <tr>\n",
       "      <th>3</th>\n",
       "      <td>Alabama</td>\n",
       "      <td>2017</td>\n",
       "      <td>488</td>\n",
       "    </tr>\n",
       "    <tr>\n",
       "      <th>4</th>\n",
       "      <td>Alaska</td>\n",
       "      <td>2014</td>\n",
       "      <td>27</td>\n",
       "    </tr>\n",
       "  </tbody>\n",
       "</table>\n",
       "</div>"
      ],
      "text/plain": [
       "     state  year  num_incidents\n",
       "0  Alabama  2014            303\n",
       "1  Alabama  2015            345\n",
       "2  Alabama  2016            445\n",
       "3  Alabama  2017            488\n",
       "4   Alaska  2014             27"
      ]
     },
     "execution_count": 56,
     "metadata": {},
     "output_type": "execute_result"
    }
   ],
   "source": [
    "# Number of fatal incidents by state and year\n",
    "incidents_state_year.head()"
   ]
  },
  {
   "cell_type": "code",
   "execution_count": 57,
   "metadata": {},
   "outputs": [],
   "source": [
    "# Average annual number of fatal incidents by state, 2014-2017\n",
    "incidents_state_year = incidents_state_year.groupby(['state']).agg({'num_incidents': 'mean'}).reset_index()"
   ]
  },
  {
   "cell_type": "code",
   "execution_count": 58,
   "metadata": {},
   "outputs": [
    {
     "data": {
      "text/html": [
       "<div>\n",
       "<style scoped>\n",
       "    .dataframe tbody tr th:only-of-type {\n",
       "        vertical-align: middle;\n",
       "    }\n",
       "\n",
       "    .dataframe tbody tr th {\n",
       "        vertical-align: top;\n",
       "    }\n",
       "\n",
       "    .dataframe thead th {\n",
       "        text-align: right;\n",
       "    }\n",
       "</style>\n",
       "<table border=\"1\" class=\"dataframe\">\n",
       "  <thead>\n",
       "    <tr style=\"text-align: right;\">\n",
       "      <th></th>\n",
       "      <th>state</th>\n",
       "      <th>num_incidents</th>\n",
       "    </tr>\n",
       "  </thead>\n",
       "  <tbody>\n",
       "    <tr>\n",
       "      <th>0</th>\n",
       "      <td>Alabama</td>\n",
       "      <td>395.25</td>\n",
       "    </tr>\n",
       "    <tr>\n",
       "      <th>1</th>\n",
       "      <td>Alaska</td>\n",
       "      <td>56.25</td>\n",
       "    </tr>\n",
       "    <tr>\n",
       "      <th>2</th>\n",
       "      <td>Arizona</td>\n",
       "      <td>216.75</td>\n",
       "    </tr>\n",
       "    <tr>\n",
       "      <th>3</th>\n",
       "      <td>Arkansas</td>\n",
       "      <td>162.00</td>\n",
       "    </tr>\n",
       "    <tr>\n",
       "      <th>4</th>\n",
       "      <td>California</td>\n",
       "      <td>1170.00</td>\n",
       "    </tr>\n",
       "  </tbody>\n",
       "</table>\n",
       "</div>"
      ],
      "text/plain": [
       "        state  num_incidents\n",
       "0     Alabama         395.25\n",
       "1      Alaska          56.25\n",
       "2     Arizona         216.75\n",
       "3    Arkansas         162.00\n",
       "4  California        1170.00"
      ]
     },
     "execution_count": 58,
     "metadata": {},
     "output_type": "execute_result"
    }
   ],
   "source": [
    "incidents_state_year.head()"
   ]
  },
  {
   "cell_type": "code",
   "execution_count": 59,
   "metadata": {},
   "outputs": [],
   "source": [
    "owner = pd.read_csv('data/registered_guns.csv')"
   ]
  },
  {
   "cell_type": "code",
   "execution_count": 60,
   "metadata": {},
   "outputs": [
    {
     "data": {
      "text/html": [
       "<div>\n",
       "<style scoped>\n",
       "    .dataframe tbody tr th:only-of-type {\n",
       "        vertical-align: middle;\n",
       "    }\n",
       "\n",
       "    .dataframe tbody tr th {\n",
       "        vertical-align: top;\n",
       "    }\n",
       "\n",
       "    .dataframe thead th {\n",
       "        text-align: right;\n",
       "    }\n",
       "</style>\n",
       "<table border=\"1\" class=\"dataframe\">\n",
       "  <thead>\n",
       "    <tr style=\"text-align: right;\">\n",
       "      <th></th>\n",
       "      <th>state</th>\n",
       "      <th>registered_guns</th>\n",
       "    </tr>\n",
       "  </thead>\n",
       "  <tbody>\n",
       "    <tr>\n",
       "      <th>0</th>\n",
       "      <td>Alabama</td>\n",
       "      <td>161641</td>\n",
       "    </tr>\n",
       "    <tr>\n",
       "      <th>1</th>\n",
       "      <td>Alaska</td>\n",
       "      <td>15824</td>\n",
       "    </tr>\n",
       "    <tr>\n",
       "      <th>2</th>\n",
       "      <td>Arkansas</td>\n",
       "      <td>79841</td>\n",
       "    </tr>\n",
       "    <tr>\n",
       "      <th>3</th>\n",
       "      <td>Arizona</td>\n",
       "      <td>179738</td>\n",
       "    </tr>\n",
       "    <tr>\n",
       "      <th>4</th>\n",
       "      <td>California</td>\n",
       "      <td>344622</td>\n",
       "    </tr>\n",
       "  </tbody>\n",
       "</table>\n",
       "</div>"
      ],
      "text/plain": [
       "        state  registered_guns\n",
       "0     Alabama           161641\n",
       "1      Alaska            15824\n",
       "2    Arkansas            79841\n",
       "3     Arizona           179738\n",
       "4  California           344622"
      ]
     },
     "execution_count": 60,
     "metadata": {},
     "output_type": "execute_result"
    }
   ],
   "source": [
    "owner.head()"
   ]
  },
  {
   "cell_type": "code",
   "execution_count": 61,
   "metadata": {},
   "outputs": [],
   "source": [
    "incidents_state_year = incidents_state_year.merge(owner, on='state', how='inner')"
   ]
  },
  {
   "cell_type": "code",
   "execution_count": 62,
   "metadata": {},
   "outputs": [],
   "source": [
    "incidents_state_year = incidents_state_year.merge(state_pop[['state', 'population']], on='state', how='inner')"
   ]
  },
  {
   "cell_type": "code",
   "execution_count": 63,
   "metadata": {},
   "outputs": [
    {
     "data": {
      "text/html": [
       "<div>\n",
       "<style scoped>\n",
       "    .dataframe tbody tr th:only-of-type {\n",
       "        vertical-align: middle;\n",
       "    }\n",
       "\n",
       "    .dataframe tbody tr th {\n",
       "        vertical-align: top;\n",
       "    }\n",
       "\n",
       "    .dataframe thead th {\n",
       "        text-align: right;\n",
       "    }\n",
       "</style>\n",
       "<table border=\"1\" class=\"dataframe\">\n",
       "  <thead>\n",
       "    <tr style=\"text-align: right;\">\n",
       "      <th></th>\n",
       "      <th>state</th>\n",
       "      <th>num_incidents</th>\n",
       "      <th>registered_guns</th>\n",
       "      <th>population</th>\n",
       "    </tr>\n",
       "  </thead>\n",
       "  <tbody>\n",
       "    <tr>\n",
       "      <th>0</th>\n",
       "      <td>Alabama</td>\n",
       "      <td>395.25</td>\n",
       "      <td>161641</td>\n",
       "      <td>4874747</td>\n",
       "    </tr>\n",
       "    <tr>\n",
       "      <th>1</th>\n",
       "      <td>Alaska</td>\n",
       "      <td>56.25</td>\n",
       "      <td>15824</td>\n",
       "      <td>739795</td>\n",
       "    </tr>\n",
       "    <tr>\n",
       "      <th>2</th>\n",
       "      <td>Arizona</td>\n",
       "      <td>216.75</td>\n",
       "      <td>179738</td>\n",
       "      <td>7016270</td>\n",
       "    </tr>\n",
       "    <tr>\n",
       "      <th>3</th>\n",
       "      <td>Arkansas</td>\n",
       "      <td>162.00</td>\n",
       "      <td>79841</td>\n",
       "      <td>3004279</td>\n",
       "    </tr>\n",
       "    <tr>\n",
       "      <th>4</th>\n",
       "      <td>California</td>\n",
       "      <td>1170.00</td>\n",
       "      <td>344622</td>\n",
       "      <td>39536653</td>\n",
       "    </tr>\n",
       "  </tbody>\n",
       "</table>\n",
       "</div>"
      ],
      "text/plain": [
       "        state  num_incidents  registered_guns  population\n",
       "0     Alabama         395.25           161641     4874747\n",
       "1      Alaska          56.25            15824      739795\n",
       "2     Arizona         216.75           179738     7016270\n",
       "3    Arkansas         162.00            79841     3004279\n",
       "4  California        1170.00           344622    39536653"
      ]
     },
     "execution_count": 63,
     "metadata": {},
     "output_type": "execute_result"
    }
   ],
   "source": [
    "incidents_state_year.head()"
   ]
  },
  {
   "cell_type": "code",
   "execution_count": 64,
   "metadata": {},
   "outputs": [],
   "source": [
    "incidents_state_year['incidents_per_100k'] = \\\n",
    "incidents_state_year.num_incidents / incidents_state_year.population * 100000"
   ]
  },
  {
   "cell_type": "code",
   "execution_count": 65,
   "metadata": {},
   "outputs": [],
   "source": [
    "incidents_state_year['guns_per_100k'] = \\\n",
    "incidents_state_year.registered_guns / incidents_state_year.population * 100000"
   ]
  },
  {
   "cell_type": "code",
   "execution_count": 66,
   "metadata": {},
   "outputs": [],
   "source": [
    "incidents_state_year['incidents_per_100k'] = incidents_state_year.incidents_per_100k.round(1)"
   ]
  },
  {
   "cell_type": "code",
   "execution_count": 67,
   "metadata": {},
   "outputs": [],
   "source": [
    "incidents_state_year['guns_per_100k'] = incidents_state_year.guns_per_100k.round(1)"
   ]
  },
  {
   "cell_type": "code",
   "execution_count": 68,
   "metadata": {
    "scrolled": true
   },
   "outputs": [
    {
     "data": {
      "text/html": [
       "<div>\n",
       "<style scoped>\n",
       "    .dataframe tbody tr th:only-of-type {\n",
       "        vertical-align: middle;\n",
       "    }\n",
       "\n",
       "    .dataframe tbody tr th {\n",
       "        vertical-align: top;\n",
       "    }\n",
       "\n",
       "    .dataframe thead th {\n",
       "        text-align: right;\n",
       "    }\n",
       "</style>\n",
       "<table border=\"1\" class=\"dataframe\">\n",
       "  <thead>\n",
       "    <tr style=\"text-align: right;\">\n",
       "      <th></th>\n",
       "      <th>state</th>\n",
       "      <th>num_incidents</th>\n",
       "      <th>registered_guns</th>\n",
       "      <th>population</th>\n",
       "      <th>incidents_per_100k</th>\n",
       "      <th>guns_per_100k</th>\n",
       "    </tr>\n",
       "  </thead>\n",
       "  <tbody>\n",
       "    <tr>\n",
       "      <th>0</th>\n",
       "      <td>Alabama</td>\n",
       "      <td>395.25</td>\n",
       "      <td>161641</td>\n",
       "      <td>4874747</td>\n",
       "      <td>8.1</td>\n",
       "      <td>3315.9</td>\n",
       "    </tr>\n",
       "    <tr>\n",
       "      <th>1</th>\n",
       "      <td>Alaska</td>\n",
       "      <td>56.25</td>\n",
       "      <td>15824</td>\n",
       "      <td>739795</td>\n",
       "      <td>7.6</td>\n",
       "      <td>2139.0</td>\n",
       "    </tr>\n",
       "    <tr>\n",
       "      <th>2</th>\n",
       "      <td>Arizona</td>\n",
       "      <td>216.75</td>\n",
       "      <td>179738</td>\n",
       "      <td>7016270</td>\n",
       "      <td>3.1</td>\n",
       "      <td>2561.7</td>\n",
       "    </tr>\n",
       "    <tr>\n",
       "      <th>3</th>\n",
       "      <td>Arkansas</td>\n",
       "      <td>162.00</td>\n",
       "      <td>79841</td>\n",
       "      <td>3004279</td>\n",
       "      <td>5.4</td>\n",
       "      <td>2657.6</td>\n",
       "    </tr>\n",
       "    <tr>\n",
       "      <th>4</th>\n",
       "      <td>California</td>\n",
       "      <td>1170.00</td>\n",
       "      <td>344622</td>\n",
       "      <td>39536653</td>\n",
       "      <td>3.0</td>\n",
       "      <td>871.7</td>\n",
       "    </tr>\n",
       "  </tbody>\n",
       "</table>\n",
       "</div>"
      ],
      "text/plain": [
       "        state  num_incidents  registered_guns  population  incidents_per_100k  \\\n",
       "0     Alabama         395.25           161641     4874747                 8.1   \n",
       "1      Alaska          56.25            15824      739795                 7.6   \n",
       "2     Arizona         216.75           179738     7016270                 3.1   \n",
       "3    Arkansas         162.00            79841     3004279                 5.4   \n",
       "4  California        1170.00           344622    39536653                 3.0   \n",
       "\n",
       "   guns_per_100k  \n",
       "0         3315.9  \n",
       "1         2139.0  \n",
       "2         2561.7  \n",
       "3         2657.6  \n",
       "4          871.7  "
      ]
     },
     "execution_count": 68,
     "metadata": {},
     "output_type": "execute_result"
    }
   ],
   "source": [
    "incidents_state_year.head()"
   ]
  },
  {
   "cell_type": "code",
   "execution_count": 69,
   "metadata": {},
   "outputs": [],
   "source": [
    "p1 = go.Scatter(\n",
    "    x=incidents_state_year.guns_per_100k,\n",
    "    y=incidents_state_year.incidents_per_100k,\n",
    "    mode='markers',\n",
    "    marker=dict(color='blue'),\n",
    "    text=incidents_state_year.state,\n",
    "    textposition='top center'\n",
    ")"
   ]
  },
  {
   "cell_type": "code",
   "execution_count": 70,
   "metadata": {},
   "outputs": [],
   "source": [
    "regr = LinearRegression()"
   ]
  },
  {
   "cell_type": "code",
   "execution_count": 71,
   "metadata": {
    "scrolled": true
   },
   "outputs": [
    {
     "data": {
      "text/plain": [
       "LinearRegression(copy_X=True, fit_intercept=True, n_jobs=None,\n",
       "         normalize=False)"
      ]
     },
     "execution_count": 71,
     "metadata": {},
     "output_type": "execute_result"
    }
   ],
   "source": [
    "regr.fit(X=incidents_state_year.guns_per_100k.values.reshape(-1, 1), y=incidents_state_year.incidents_per_100k)"
   ]
  },
  {
   "cell_type": "code",
   "execution_count": 72,
   "metadata": {
    "scrolled": true
   },
   "outputs": [
    {
     "data": {
      "text/plain": [
       "6.973092222034135e-05"
      ]
     },
     "execution_count": 72,
     "metadata": {},
     "output_type": "execute_result"
    }
   ],
   "source": [
    "# Slope coefficient\n",
    "regr.coef_[0]"
   ]
  },
  {
   "cell_type": "code",
   "execution_count": 32,
   "metadata": {},
   "outputs": [],
   "source": [
    "p2 = go.Scatter(x=incidents_state_year.guns_per_100k, \n",
    "                y=regr.predict(incidents_state_year.guns_per_100k.values.reshape(-1, 1)),\n",
    "                mode='lines',\n",
    "                line=dict(color='red', width=3)\n",
    "                )"
   ]
  },
  {
   "cell_type": "code",
   "execution_count": 33,
   "metadata": {},
   "outputs": [],
   "source": [
    "data = [p1, p2]"
   ]
  },
  {
   "cell_type": "code",
   "execution_count": 34,
   "metadata": {},
   "outputs": [],
   "source": [
    "layout = go.Layout(showlegend=False, \n",
    "                   title='There is a weakly positive correlation between gun ownership and number of fatal gun incidents', \n",
    "                   xaxis=dict(title='Registered Guns per 100K Persons'), \n",
    "                   yaxis=dict(title='Avg Annual Fatal Gun Incidents per 100K Persons'))"
   ]
  },
  {
   "cell_type": "code",
   "execution_count": 35,
   "metadata": {},
   "outputs": [],
   "source": [
    "fig = go.Figure(data=data, layout=layout)"
   ]
  },
  {
   "cell_type": "code",
   "execution_count": 36,
   "metadata": {},
   "outputs": [
    {
     "data": {
      "text/html": [
       "<iframe id=\"igraph\" scrolling=\"no\" style=\"border:none;\" seamless=\"seamless\" src=\"https://plot.ly/~yihanwang91/168.embed\" height=\"525px\" width=\"100%\"></iframe>"
      ],
      "text/plain": [
       "<plotly.tools.PlotlyDisplay object>"
      ]
     },
     "execution_count": 36,
     "metadata": {},
     "output_type": "execute_result"
    }
   ],
   "source": [
    "py.iplot(fig)"
   ]
  },
  {
   "cell_type": "markdown",
   "metadata": {},
   "source": [
    "The graph above shows a weak positive linear relationship between gun ownership and the number of fatal gun incidents. However, Wyoming and Washington D.C. are clear outliers. What would the regression line look like if we removed them?"
   ]
  },
  {
   "cell_type": "code",
   "execution_count": 37,
   "metadata": {},
   "outputs": [],
   "source": [
    "# Remove Wyoming and Washington D.C.\n",
    "incidents_state_year = \\\n",
    "incidents_state_year[(incidents_state_year.state != 'District of Columbia') & \n",
    "                     (incidents_state_year.state != 'Wyoming')]"
   ]
  },
  {
   "cell_type": "code",
   "execution_count": 38,
   "metadata": {},
   "outputs": [],
   "source": [
    "p1 = go.Scatter(\n",
    "    x=incidents_state_year.guns_per_100k,\n",
    "    y=incidents_state_year.incidents_per_100k,\n",
    "    mode='markers',\n",
    "    marker=dict(color='blue'),\n",
    "    text=incidents_state_year.state,\n",
    "    textposition='top center'\n",
    ")"
   ]
  },
  {
   "cell_type": "code",
   "execution_count": 39,
   "metadata": {},
   "outputs": [],
   "source": [
    "regr = LinearRegression()"
   ]
  },
  {
   "cell_type": "code",
   "execution_count": 40,
   "metadata": {
    "scrolled": true
   },
   "outputs": [
    {
     "data": {
      "text/plain": [
       "LinearRegression(copy_X=True, fit_intercept=True, n_jobs=None,\n",
       "         normalize=False)"
      ]
     },
     "execution_count": 40,
     "metadata": {},
     "output_type": "execute_result"
    }
   ],
   "source": [
    "regr.fit(X=incidents_state_year.guns_per_100k.values.reshape(-1, 1), y=incidents_state_year.incidents_per_100k)"
   ]
  },
  {
   "cell_type": "code",
   "execution_count": 41,
   "metadata": {},
   "outputs": [
    {
     "data": {
      "text/plain": [
       "0.00042469402510342366"
      ]
     },
     "execution_count": 41,
     "metadata": {},
     "output_type": "execute_result"
    }
   ],
   "source": [
    "# Slope coefficient\n",
    "regr.coef_[0]"
   ]
  },
  {
   "cell_type": "code",
   "execution_count": null,
   "metadata": {},
   "outputs": [],
   "source": [
    "regr."
   ]
  },
  {
   "cell_type": "code",
   "execution_count": 42,
   "metadata": {},
   "outputs": [],
   "source": [
    "p2 = go.Scatter(x=incidents_state_year.guns_per_100k, \n",
    "                y=regr.predict(incidents_state_year.guns_per_100k.values.reshape(-1, 1)),\n",
    "                mode='lines',\n",
    "                line=dict(color='red', width=3)\n",
    "                )"
   ]
  },
  {
   "cell_type": "code",
   "execution_count": 43,
   "metadata": {},
   "outputs": [],
   "source": [
    "data = [p1, p2]"
   ]
  },
  {
   "cell_type": "code",
   "execution_count": 44,
   "metadata": {},
   "outputs": [],
   "source": [
    "layout = go.Layout(showlegend=False, \n",
    "                   title='After removing outliers, the correlation remains weakly positive', \n",
    "                   xaxis=dict(title='Registered Guns per 100K Persons'), \n",
    "                   yaxis=dict(title='Avg Annual Fatal Gun Incidents per 100K Persons'))"
   ]
  },
  {
   "cell_type": "code",
   "execution_count": 45,
   "metadata": {},
   "outputs": [],
   "source": [
    "fig = go.Figure(data=data, layout=layout)"
   ]
  },
  {
   "cell_type": "code",
   "execution_count": 46,
   "metadata": {},
   "outputs": [
    {
     "data": {
      "text/html": [
       "<iframe id=\"igraph\" scrolling=\"no\" style=\"border:none;\" seamless=\"seamless\" src=\"https://plot.ly/~yihanwang91/170.embed\" height=\"525px\" width=\"100%\"></iframe>"
      ],
      "text/plain": [
       "<plotly.tools.PlotlyDisplay object>"
      ]
     },
     "execution_count": 46,
     "metadata": {},
     "output_type": "execute_result"
    }
   ],
   "source": [
    "py.iplot(fig)"
   ]
  },
  {
   "cell_type": "markdown",
   "metadata": {},
   "source": [
    "After removing outliers, the relationship between gun ownership and the number of fatal gun incidents is still very weak."
   ]
  },
  {
   "cell_type": "markdown",
   "metadata": {},
   "source": [
    "# Do Gun Deaths Lead to More Gun Laws?"
   ]
  },
  {
   "cell_type": "code",
   "execution_count": 105,
   "metadata": {},
   "outputs": [],
   "source": [
    "laws = pd.read_csv('data/gun_laws.csv')"
   ]
  },
  {
   "cell_type": "code",
   "execution_count": 106,
   "metadata": {},
   "outputs": [
    {
     "data": {
      "text/html": [
       "<div>\n",
       "<style scoped>\n",
       "    .dataframe tbody tr th:only-of-type {\n",
       "        vertical-align: middle;\n",
       "    }\n",
       "\n",
       "    .dataframe tbody tr th {\n",
       "        vertical-align: top;\n",
       "    }\n",
       "\n",
       "    .dataframe thead th {\n",
       "        text-align: right;\n",
       "    }\n",
       "</style>\n",
       "<table border=\"1\" class=\"dataframe\">\n",
       "  <thead>\n",
       "    <tr style=\"text-align: right;\">\n",
       "      <th></th>\n",
       "      <th>state</th>\n",
       "      <th>year</th>\n",
       "      <th>num_laws</th>\n",
       "    </tr>\n",
       "  </thead>\n",
       "  <tbody>\n",
       "    <tr>\n",
       "      <th>0</th>\n",
       "      <td>Alabama</td>\n",
       "      <td>2013</td>\n",
       "      <td>10</td>\n",
       "    </tr>\n",
       "    <tr>\n",
       "      <th>1</th>\n",
       "      <td>Alabama</td>\n",
       "      <td>2014</td>\n",
       "      <td>10</td>\n",
       "    </tr>\n",
       "    <tr>\n",
       "      <th>2</th>\n",
       "      <td>Alabama</td>\n",
       "      <td>2015</td>\n",
       "      <td>10</td>\n",
       "    </tr>\n",
       "    <tr>\n",
       "      <th>3</th>\n",
       "      <td>Alabama</td>\n",
       "      <td>2016</td>\n",
       "      <td>10</td>\n",
       "    </tr>\n",
       "    <tr>\n",
       "      <th>4</th>\n",
       "      <td>Alabama</td>\n",
       "      <td>2017</td>\n",
       "      <td>10</td>\n",
       "    </tr>\n",
       "  </tbody>\n",
       "</table>\n",
       "</div>"
      ],
      "text/plain": [
       "     state  year  num_laws\n",
       "0  Alabama  2013        10\n",
       "1  Alabama  2014        10\n",
       "2  Alabama  2015        10\n",
       "3  Alabama  2016        10\n",
       "4  Alabama  2017        10"
      ]
     },
     "execution_count": 106,
     "metadata": {},
     "output_type": "execute_result"
    }
   ],
   "source": [
    "laws.head()"
   ]
  },
  {
   "cell_type": "code",
   "execution_count": 107,
   "metadata": {},
   "outputs": [
    {
     "data": {
      "text/plain": [
       "(300, 3)"
      ]
     },
     "execution_count": 107,
     "metadata": {},
     "output_type": "execute_result"
    }
   ],
   "source": [
    "laws.shape"
   ]
  },
  {
   "cell_type": "code",
   "execution_count": 108,
   "metadata": {},
   "outputs": [],
   "source": [
    "lag_laws = laws.groupby(['state'])['year', 'num_laws'].shift(1).reset_index()"
   ]
  },
  {
   "cell_type": "code",
   "execution_count": 109,
   "metadata": {},
   "outputs": [],
   "source": [
    "laws['prev_year'] = lag_laws['year']"
   ]
  },
  {
   "cell_type": "code",
   "execution_count": 110,
   "metadata": {},
   "outputs": [],
   "source": [
    "laws['num_laws_prev_year'] = lag_laws['num_laws']"
   ]
  },
  {
   "cell_type": "code",
   "execution_count": 111,
   "metadata": {},
   "outputs": [],
   "source": [
    "laws = laws[laws.year != 2013]"
   ]
  },
  {
   "cell_type": "code",
   "execution_count": 112,
   "metadata": {},
   "outputs": [],
   "source": [
    "# Change in the number of gun laws from the previous year\n",
    "laws['change_num_laws'] = laws.num_laws - laws.num_laws_prev_year"
   ]
  },
  {
   "cell_type": "code",
   "execution_count": 113,
   "metadata": {
    "scrolled": true
   },
   "outputs": [
    {
     "data": {
      "text/html": [
       "<div>\n",
       "<style scoped>\n",
       "    .dataframe tbody tr th:only-of-type {\n",
       "        vertical-align: middle;\n",
       "    }\n",
       "\n",
       "    .dataframe tbody tr th {\n",
       "        vertical-align: top;\n",
       "    }\n",
       "\n",
       "    .dataframe thead th {\n",
       "        text-align: right;\n",
       "    }\n",
       "</style>\n",
       "<table border=\"1\" class=\"dataframe\">\n",
       "  <thead>\n",
       "    <tr style=\"text-align: right;\">\n",
       "      <th></th>\n",
       "      <th>state</th>\n",
       "      <th>year</th>\n",
       "      <th>num_laws</th>\n",
       "      <th>prev_year</th>\n",
       "      <th>num_laws_prev_year</th>\n",
       "      <th>change_num_laws</th>\n",
       "    </tr>\n",
       "  </thead>\n",
       "  <tbody>\n",
       "    <tr>\n",
       "      <th>1</th>\n",
       "      <td>Alabama</td>\n",
       "      <td>2014</td>\n",
       "      <td>10</td>\n",
       "      <td>2013.0</td>\n",
       "      <td>10.0</td>\n",
       "      <td>0.0</td>\n",
       "    </tr>\n",
       "    <tr>\n",
       "      <th>2</th>\n",
       "      <td>Alabama</td>\n",
       "      <td>2015</td>\n",
       "      <td>10</td>\n",
       "      <td>2014.0</td>\n",
       "      <td>10.0</td>\n",
       "      <td>0.0</td>\n",
       "    </tr>\n",
       "    <tr>\n",
       "      <th>3</th>\n",
       "      <td>Alabama</td>\n",
       "      <td>2016</td>\n",
       "      <td>10</td>\n",
       "      <td>2015.0</td>\n",
       "      <td>10.0</td>\n",
       "      <td>0.0</td>\n",
       "    </tr>\n",
       "    <tr>\n",
       "      <th>4</th>\n",
       "      <td>Alabama</td>\n",
       "      <td>2017</td>\n",
       "      <td>10</td>\n",
       "      <td>2016.0</td>\n",
       "      <td>10.0</td>\n",
       "      <td>0.0</td>\n",
       "    </tr>\n",
       "    <tr>\n",
       "      <th>5</th>\n",
       "      <td>Alabama</td>\n",
       "      <td>2018</td>\n",
       "      <td>10</td>\n",
       "      <td>2017.0</td>\n",
       "      <td>10.0</td>\n",
       "      <td>0.0</td>\n",
       "    </tr>\n",
       "  </tbody>\n",
       "</table>\n",
       "</div>"
      ],
      "text/plain": [
       "     state  year  num_laws  prev_year  num_laws_prev_year  change_num_laws\n",
       "1  Alabama  2014        10     2013.0                10.0              0.0\n",
       "2  Alabama  2015        10     2014.0                10.0              0.0\n",
       "3  Alabama  2016        10     2015.0                10.0              0.0\n",
       "4  Alabama  2017        10     2016.0                10.0              0.0\n",
       "5  Alabama  2018        10     2017.0                10.0              0.0"
      ]
     },
     "execution_count": 113,
     "metadata": {},
     "output_type": "execute_result"
    }
   ],
   "source": [
    "laws.head()"
   ]
  },
  {
   "cell_type": "code",
   "execution_count": 114,
   "metadata": {},
   "outputs": [],
   "source": [
    "death_state_year = death_state_year.rename(index=str, columns={\"year\": \"prev_year\", \"per_100k\": \"deaths_per_100k\"})"
   ]
  },
  {
   "cell_type": "code",
   "execution_count": 115,
   "metadata": {},
   "outputs": [],
   "source": [
    "laws = laws.merge(death_state_year, on=['state', 'prev_year'], how='left')"
   ]
  },
  {
   "cell_type": "code",
   "execution_count": 116,
   "metadata": {},
   "outputs": [],
   "source": [
    "laws = laws[['state', 'year', 'num_laws', 'prev_year', 'num_laws_prev_year', \n",
    "             'change_num_laws', 'n_killed', 'deaths_per_100k']]"
   ]
  },
  {
   "cell_type": "code",
   "execution_count": 117,
   "metadata": {},
   "outputs": [],
   "source": [
    "laws = laws.rename(index=str, columns={\"n_killed\": \"n_killed_prev_year\"})"
   ]
  },
  {
   "cell_type": "code",
   "execution_count": 118,
   "metadata": {},
   "outputs": [],
   "source": [
    "laws = laws[laws.year != 2014]"
   ]
  },
  {
   "cell_type": "code",
   "execution_count": 119,
   "metadata": {},
   "outputs": [],
   "source": [
    "laws['year'] = laws.year.apply(str)"
   ]
  },
  {
   "cell_type": "code",
   "execution_count": 120,
   "metadata": {},
   "outputs": [],
   "source": [
    "laws['state_year'] = laws.state + '-' + laws.year"
   ]
  },
  {
   "cell_type": "code",
   "execution_count": 121,
   "metadata": {
    "scrolled": true
   },
   "outputs": [
    {
     "data": {
      "text/html": [
       "<div>\n",
       "<style scoped>\n",
       "    .dataframe tbody tr th:only-of-type {\n",
       "        vertical-align: middle;\n",
       "    }\n",
       "\n",
       "    .dataframe tbody tr th {\n",
       "        vertical-align: top;\n",
       "    }\n",
       "\n",
       "    .dataframe thead th {\n",
       "        text-align: right;\n",
       "    }\n",
       "</style>\n",
       "<table border=\"1\" class=\"dataframe\">\n",
       "  <thead>\n",
       "    <tr style=\"text-align: right;\">\n",
       "      <th></th>\n",
       "      <th>state</th>\n",
       "      <th>year</th>\n",
       "      <th>num_laws</th>\n",
       "      <th>prev_year</th>\n",
       "      <th>num_laws_prev_year</th>\n",
       "      <th>change_num_laws</th>\n",
       "      <th>n_killed_prev_year</th>\n",
       "      <th>deaths_per_100k</th>\n",
       "      <th>state_year</th>\n",
       "    </tr>\n",
       "  </thead>\n",
       "  <tbody>\n",
       "    <tr>\n",
       "      <th>1</th>\n",
       "      <td>Alabama</td>\n",
       "      <td>2015</td>\n",
       "      <td>10</td>\n",
       "      <td>2014.0</td>\n",
       "      <td>10.0</td>\n",
       "      <td>0.0</td>\n",
       "      <td>325.0</td>\n",
       "      <td>6.7</td>\n",
       "      <td>Alabama-2015</td>\n",
       "    </tr>\n",
       "    <tr>\n",
       "      <th>2</th>\n",
       "      <td>Alabama</td>\n",
       "      <td>2016</td>\n",
       "      <td>10</td>\n",
       "      <td>2015.0</td>\n",
       "      <td>10.0</td>\n",
       "      <td>0.0</td>\n",
       "      <td>385.0</td>\n",
       "      <td>7.9</td>\n",
       "      <td>Alabama-2016</td>\n",
       "    </tr>\n",
       "    <tr>\n",
       "      <th>3</th>\n",
       "      <td>Alabama</td>\n",
       "      <td>2017</td>\n",
       "      <td>10</td>\n",
       "      <td>2016.0</td>\n",
       "      <td>10.0</td>\n",
       "      <td>0.0</td>\n",
       "      <td>488.0</td>\n",
       "      <td>10.0</td>\n",
       "      <td>Alabama-2017</td>\n",
       "    </tr>\n",
       "    <tr>\n",
       "      <th>4</th>\n",
       "      <td>Alabama</td>\n",
       "      <td>2018</td>\n",
       "      <td>10</td>\n",
       "      <td>2017.0</td>\n",
       "      <td>10.0</td>\n",
       "      <td>0.0</td>\n",
       "      <td>544.0</td>\n",
       "      <td>11.2</td>\n",
       "      <td>Alabama-2018</td>\n",
       "    </tr>\n",
       "    <tr>\n",
       "      <th>6</th>\n",
       "      <td>Alaska</td>\n",
       "      <td>2015</td>\n",
       "      <td>3</td>\n",
       "      <td>2014.0</td>\n",
       "      <td>3.0</td>\n",
       "      <td>0.0</td>\n",
       "      <td>29.0</td>\n",
       "      <td>3.9</td>\n",
       "      <td>Alaska-2015</td>\n",
       "    </tr>\n",
       "  </tbody>\n",
       "</table>\n",
       "</div>"
      ],
      "text/plain": [
       "     state  year  num_laws  prev_year  num_laws_prev_year  change_num_laws  \\\n",
       "1  Alabama  2015        10     2014.0                10.0              0.0   \n",
       "2  Alabama  2016        10     2015.0                10.0              0.0   \n",
       "3  Alabama  2017        10     2016.0                10.0              0.0   \n",
       "4  Alabama  2018        10     2017.0                10.0              0.0   \n",
       "6   Alaska  2015         3     2014.0                 3.0              0.0   \n",
       "\n",
       "   n_killed_prev_year  deaths_per_100k    state_year  \n",
       "1               325.0              6.7  Alabama-2015  \n",
       "2               385.0              7.9  Alabama-2016  \n",
       "3               488.0             10.0  Alabama-2017  \n",
       "4               544.0             11.2  Alabama-2018  \n",
       "6                29.0              3.9   Alaska-2015  "
      ]
     },
     "execution_count": 121,
     "metadata": {},
     "output_type": "execute_result"
    }
   ],
   "source": [
    "laws.head()"
   ]
  },
  {
   "cell_type": "code",
   "execution_count": 122,
   "metadata": {},
   "outputs": [],
   "source": [
    "p1 = go.Scatter(\n",
    "    x=laws.n_killed_prev_year,\n",
    "    y=laws.change_num_laws,\n",
    "    mode='markers',\n",
    "    marker=dict(color='blue'),\n",
    "    text=laws.state_year,\n",
    "    textposition='top center'\n",
    ")"
   ]
  },
  {
   "cell_type": "code",
   "execution_count": 123,
   "metadata": {},
   "outputs": [],
   "source": [
    "regr = LinearRegression()"
   ]
  },
  {
   "cell_type": "code",
   "execution_count": 124,
   "metadata": {
    "scrolled": true
   },
   "outputs": [
    {
     "data": {
      "text/plain": [
       "LinearRegression(copy_X=True, fit_intercept=True, n_jobs=None,\n",
       "         normalize=False)"
      ]
     },
     "execution_count": 124,
     "metadata": {},
     "output_type": "execute_result"
    }
   ],
   "source": [
    "regr.fit(X=laws.n_killed_prev_year.values.reshape(-1, 1), y=laws.change_num_laws)"
   ]
  },
  {
   "cell_type": "code",
   "execution_count": 125,
   "metadata": {},
   "outputs": [],
   "source": [
    "p2 = go.Scatter(x=laws.n_killed_prev_year, \n",
    "                y=regr.predict(laws.n_killed_prev_year.values.reshape(-1, 1)),\n",
    "                mode='lines',\n",
    "                line=dict(color='red', width=3)\n",
    "                )"
   ]
  },
  {
   "cell_type": "code",
   "execution_count": 126,
   "metadata": {},
   "outputs": [],
   "source": [
    "data = [p1, p2]"
   ]
  },
  {
   "cell_type": "code",
   "execution_count": 127,
   "metadata": {},
   "outputs": [],
   "source": [
    "layout = go.Layout(showlegend=False, \n",
    "                   title='More gun deaths are not associated with more gun laws', \n",
    "                   xaxis=dict(title='Number of Gun Deaths in Previous Year'), \n",
    "                   yaxis=dict(title='Change in Number of Gun Laws from Previous Year'))"
   ]
  },
  {
   "cell_type": "code",
   "execution_count": 128,
   "metadata": {},
   "outputs": [],
   "source": [
    "fig = go.Figure(data=data, layout=layout)"
   ]
  },
  {
   "cell_type": "code",
   "execution_count": 129,
   "metadata": {},
   "outputs": [
    {
     "data": {
      "text/html": [
       "<iframe id=\"igraph\" scrolling=\"no\" style=\"border:none;\" seamless=\"seamless\" src=\"https://plot.ly/~yihanwang91/166.embed\" height=\"525px\" width=\"100%\"></iframe>"
      ],
      "text/plain": [
       "<plotly.tools.PlotlyDisplay object>"
      ]
     },
     "execution_count": 129,
     "metadata": {},
     "output_type": "execute_result"
    }
   ],
   "source": [
    "py.iplot(fig)"
   ]
  },
  {
   "cell_type": "code",
   "execution_count": null,
   "metadata": {},
   "outputs": [],
   "source": []
  }
 ],
 "metadata": {
  "kernelspec": {
   "display_name": "Python 3",
   "language": "python",
   "name": "python3"
  },
  "language_info": {
   "codemirror_mode": {
    "name": "ipython",
    "version": 3
   },
   "file_extension": ".py",
   "mimetype": "text/x-python",
   "name": "python",
   "nbconvert_exporter": "python",
   "pygments_lexer": "ipython3",
   "version": "3.6.8"
  }
 },
 "nbformat": 4,
 "nbformat_minor": 2
}
